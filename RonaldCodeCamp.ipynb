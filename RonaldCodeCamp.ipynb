{
 "metadata": {
  "name": "",
  "signature": "sha256:f65eee3d57c35a5764521ff085092ef030dfaf3093ab80f24fb054bb3edfa12a"
 },
 "nbformat": 3,
 "nbformat_minor": 0,
 "worksheets": [
  {
   "cells": [
    {
     "cell_type": "code",
     "collapsed": false,
     "input": [
      "#!/usr/bin/env python\n",
      "import os, sys\n",
      "import json\n",
      "from twitter import *\n",
      "\n",
      "\n",
      "def main(args):\n",
      "    CONSUMER_KEY = ''\n",
      "    CONSUMER_SECRET = ''\n",
      "    MY_TWITTER_CREDS = ''\n",
      "    APP_NAME = ''\n",
      "\n",
      "    MY_TWITTER_CREDS = os.path.expanduser('./my_app_credentials')\n",
      "    if not os.path.exists(MY_TWITTER_CREDS):\n",
      "        oauth_dance('', CONSUMER_KEY, CONSUMER_SECRET,\n",
      "                        MY_TWITTER_CREDS)\n",
      "\n",
      "    oauth_token, oauth_secret = read_token_file(MY_TWITTER_CREDS)\n",
      "\n",
      "    twitter = Twitter(auth=OAuth(\n",
      "        oauth_token, oauth_secret, CONSUMER_KEY, CONSUMER_SECRET))\n",
      "\n",
      "\n",
      "    # timeline = twitter.statuses.home_timeline()\n",
      "    # print_json(timeline)\n",
      "\n",
      "    # devcon = twitter.statuses.user_timeline(screen_name=\"devconph\")\n",
      "    # print_json(devcon)\n",
      "\n",
      "    # results = twitter.search.tweets(q='python is awesome', count=50)\n",
      "    # print len(results.get('statuses'))\n",
      "\n",
      "    timeline = twitter.statuses.home_timeline(count=10)    \n",
      "    for item in timeline:\n",
      "        get_sentiment( item.get('text'))\n",
      "\n",
      "def get_sentiment(text):\n",
      "    import requests\n",
      "    payload = {'text':text}\n",
      "    r = requests.post(\"http://text-processing.com/api/sentiment/\", data=payload)\n",
      "    print text\n",
      "    print r.text\n",
      "\n",
      "def print_json(json_str):\n",
      "    print json.dumps(\n",
      "        json_str,\n",
      "        indent=4, \n",
      "        separators=(',', ': '))\n",
      "\n",
      "if __name__ == '__main__':\n",
      "    main(sys.argv)\n"
     ],
     "language": "python",
     "metadata": {},
     "outputs": [
      {
       "output_type": "stream",
       "stream": "stdout",
       "text": [
        "Hi there! We're gonna get you all set up to use .\n"
       ]
      },
      {
       "ename": "TwitterHTTPError",
       "evalue": "Twitter sent status 401 for URL: oauth/request_token using parameters: (oauth_consumer_key=&oauth_nonce=2602909721478900198&oauth_signature_method=HMAC-SHA1&oauth_timestamp=1404537869&oauth_version=1.0&oauth_signature=fGOGE%2BFOCAjleBovQ0DwK6Lp8V0%3D)\ndetails: Failed to validate oauth signature and token",
       "output_type": "pyerr",
       "traceback": [
        "\u001b[1;31m---------------------------------------------------------------------------\u001b[0m\n\u001b[1;31mTwitterHTTPError\u001b[0m                          Traceback (most recent call last)",
        "\u001b[1;32m<ipython-input-3-e3377fd7c7d5>\u001b[0m in \u001b[0;36m<module>\u001b[1;34m()\u001b[0m\n\u001b[0;32m     49\u001b[0m \u001b[1;33m\u001b[0m\u001b[0m\n\u001b[0;32m     50\u001b[0m \u001b[1;32mif\u001b[0m \u001b[0m__name__\u001b[0m \u001b[1;33m==\u001b[0m \u001b[1;34m'__main__'\u001b[0m\u001b[1;33m:\u001b[0m\u001b[1;33m\u001b[0m\u001b[0m\n\u001b[1;32m---> 51\u001b[1;33m     \u001b[0mmain\u001b[0m\u001b[1;33m(\u001b[0m\u001b[0msys\u001b[0m\u001b[1;33m.\u001b[0m\u001b[0margv\u001b[0m\u001b[1;33m)\u001b[0m\u001b[1;33m\u001b[0m\u001b[0m\n\u001b[0m",
        "\u001b[1;32m<ipython-input-3-e3377fd7c7d5>\u001b[0m in \u001b[0;36mmain\u001b[1;34m(args)\u001b[0m\n\u001b[0;32m     14\u001b[0m     \u001b[1;32mif\u001b[0m \u001b[1;32mnot\u001b[0m \u001b[0mos\u001b[0m\u001b[1;33m.\u001b[0m\u001b[0mpath\u001b[0m\u001b[1;33m.\u001b[0m\u001b[0mexists\u001b[0m\u001b[1;33m(\u001b[0m\u001b[0mMY_TWITTER_CREDS\u001b[0m\u001b[1;33m)\u001b[0m\u001b[1;33m:\u001b[0m\u001b[1;33m\u001b[0m\u001b[0m\n\u001b[0;32m     15\u001b[0m         oauth_dance('', CONSUMER_KEY, CONSUMER_SECRET,\n\u001b[1;32m---> 16\u001b[1;33m                         MY_TWITTER_CREDS)\n\u001b[0m\u001b[0;32m     17\u001b[0m \u001b[1;33m\u001b[0m\u001b[0m\n\u001b[0;32m     18\u001b[0m     \u001b[0moauth_token\u001b[0m\u001b[1;33m,\u001b[0m \u001b[0moauth_secret\u001b[0m \u001b[1;33m=\u001b[0m \u001b[0mread_token_file\u001b[0m\u001b[1;33m(\u001b[0m\u001b[0mMY_TWITTER_CREDS\u001b[0m\u001b[1;33m)\u001b[0m\u001b[1;33m\u001b[0m\u001b[0m\n",
        "\u001b[1;32m/home/ubuntu/Virtualenv/codecamp2/local/lib/python2.7/site-packages/twitter/oauth_dance.pyc\u001b[0m in \u001b[0;36moauth_dance\u001b[1;34m(app_name, consumer_key, consumer_secret, token_filename)\u001b[0m\n\u001b[0;32m     32\u001b[0m         format='', api_version=None)\n\u001b[0;32m     33\u001b[0m     oauth_token, oauth_token_secret = parse_oauth_tokens(\n\u001b[1;32m---> 34\u001b[1;33m         twitter.oauth.request_token())\n\u001b[0m\u001b[0;32m     35\u001b[0m     print(\"\"\"\n\u001b[0;32m     36\u001b[0m \u001b[0mIn\u001b[0m \u001b[0mthe\u001b[0m \u001b[0mweb\u001b[0m \u001b[0mbrowser\u001b[0m \u001b[0mwindow\u001b[0m \u001b[0mthat\u001b[0m \u001b[0mopens\u001b[0m \u001b[0mplease\u001b[0m \u001b[0mchoose\u001b[0m \u001b[0mto\u001b[0m \u001b[0mAllow\u001b[0m\u001b[1;33m\u001b[0m\u001b[0m\n",
        "\u001b[1;32m/home/ubuntu/Virtualenv/codecamp2/local/lib/python2.7/site-packages/twitter/api.pyc\u001b[0m in \u001b[0;36m__call__\u001b[1;34m(self, **kwargs)\u001b[0m\n\u001b[0;32m    243\u001b[0m \u001b[1;33m\u001b[0m\u001b[0m\n\u001b[0;32m    244\u001b[0m         \u001b[0mreq\u001b[0m \u001b[1;33m=\u001b[0m \u001b[0murllib_request\u001b[0m\u001b[1;33m.\u001b[0m\u001b[0mRequest\u001b[0m\u001b[1;33m(\u001b[0m\u001b[0muriBase\u001b[0m\u001b[1;33m,\u001b[0m \u001b[0mbody\u001b[0m\u001b[1;33m,\u001b[0m \u001b[0mheaders\u001b[0m\u001b[1;33m)\u001b[0m\u001b[1;33m\u001b[0m\u001b[0m\n\u001b[1;32m--> 245\u001b[1;33m         \u001b[1;32mreturn\u001b[0m \u001b[0mself\u001b[0m\u001b[1;33m.\u001b[0m\u001b[0m_handle_response\u001b[0m\u001b[1;33m(\u001b[0m\u001b[0mreq\u001b[0m\u001b[1;33m,\u001b[0m \u001b[0muri\u001b[0m\u001b[1;33m,\u001b[0m \u001b[0marg_data\u001b[0m\u001b[1;33m,\u001b[0m \u001b[0m_timeout\u001b[0m\u001b[1;33m)\u001b[0m\u001b[1;33m\u001b[0m\u001b[0m\n\u001b[0m\u001b[0;32m    246\u001b[0m \u001b[1;33m\u001b[0m\u001b[0m\n\u001b[0;32m    247\u001b[0m     \u001b[1;32mdef\u001b[0m \u001b[0m_handle_response\u001b[0m\u001b[1;33m(\u001b[0m\u001b[0mself\u001b[0m\u001b[1;33m,\u001b[0m \u001b[0mreq\u001b[0m\u001b[1;33m,\u001b[0m \u001b[0muri\u001b[0m\u001b[1;33m,\u001b[0m \u001b[0marg_data\u001b[0m\u001b[1;33m,\u001b[0m \u001b[0m_timeout\u001b[0m\u001b[1;33m=\u001b[0m\u001b[0mNone\u001b[0m\u001b[1;33m)\u001b[0m\u001b[1;33m:\u001b[0m\u001b[1;33m\u001b[0m\u001b[0m\n",
        "\u001b[1;32m/home/ubuntu/Virtualenv/codecamp2/local/lib/python2.7/site-packages/twitter/api.pyc\u001b[0m in \u001b[0;36m_handle_response\u001b[1;34m(self, req, uri, arg_data, _timeout)\u001b[0m\n\u001b[0;32m    274\u001b[0m                 \u001b[1;32mreturn\u001b[0m \u001b[1;33m[\u001b[0m\u001b[1;33m]\u001b[0m\u001b[1;33m\u001b[0m\u001b[0m\n\u001b[0;32m    275\u001b[0m             \u001b[1;32melse\u001b[0m\u001b[1;33m:\u001b[0m\u001b[1;33m\u001b[0m\u001b[0m\n\u001b[1;32m--> 276\u001b[1;33m                 \u001b[1;32mraise\u001b[0m \u001b[0mTwitterHTTPError\u001b[0m\u001b[1;33m(\u001b[0m\u001b[0me\u001b[0m\u001b[1;33m,\u001b[0m \u001b[0muri\u001b[0m\u001b[1;33m,\u001b[0m \u001b[0mself\u001b[0m\u001b[1;33m.\u001b[0m\u001b[0mformat\u001b[0m\u001b[1;33m,\u001b[0m \u001b[0marg_data\u001b[0m\u001b[1;33m)\u001b[0m\u001b[1;33m\u001b[0m\u001b[0m\n\u001b[0m\u001b[0;32m    277\u001b[0m \u001b[1;33m\u001b[0m\u001b[0m\n\u001b[0;32m    278\u001b[0m \u001b[1;33m\u001b[0m\u001b[0m\n",
        "\u001b[1;31mTwitterHTTPError\u001b[0m: Twitter sent status 401 for URL: oauth/request_token using parameters: (oauth_consumer_key=&oauth_nonce=2602909721478900198&oauth_signature_method=HMAC-SHA1&oauth_timestamp=1404537869&oauth_version=1.0&oauth_signature=fGOGE%2BFOCAjleBovQ0DwK6Lp8V0%3D)\ndetails: Failed to validate oauth signature and token"
       ]
      }
     ],
     "prompt_number": 3
    },
    {
     "cell_type": "code",
     "collapsed": false,
     "input": [],
     "language": "python",
     "metadata": {},
     "outputs": []
    }
   ],
   "metadata": {}
  }
 ]
}